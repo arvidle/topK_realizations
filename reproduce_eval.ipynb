{
 "nbformat": 4,
 "nbformat_minor": 0,
 "metadata": {
  "colab": {
   "provenance": [
    {
     "file_id": "1sOmwjesRwO-XCe7poEVBndVRiJqcElRb",
     "timestamp": 1717769635771
    }
   ],
   "authorship_tag": "ABX9TyOQeLHxxOd4Ro9lsWhHwB8y"
  },
  "kernelspec": {
   "name": "python3",
   "display_name": "Python 3"
  },
  "language_info": {
   "name": "python"
  }
 },
 "cells": [
  {
   "cell_type": "code",
   "execution_count": null,
   "metadata": {
    "colab": {
     "base_uri": "https://localhost:8080/"
    },
    "collapsed": true,
    "id": "Tn_XBrQtfnze",
    "executionInfo": {
     "status": "ok",
     "timestamp": 1717769590645,
     "user_tz": -120,
     "elapsed": 1548,
     "user": {
      "displayName": "Arvid Lepsien",
      "userId": "16973578189647893404"
     }
    },
    "outputId": "2ddc7408-2e63-4665-93f9-2ea210b51bf0"
   },
   "outputs": [],
   "source": [
    "!git clone https://github.com/arvidle/topK_realizations.git"
   ]
  },
  {
   "cell_type": "code",
   "source": [
    "!apt-get install python3.12 python3.12-distutils python3.12-venv python3-pip\n",
    "\n",
    "# Confirm version\n",
    "!python3.12 --version\n",
    "# Python 3.12.1\n",
    "\n",
    "!python3.12 -m ensurepip --upgrade\n",
    "!python3.12 -m pip install --upgrade setuptools"
   ],
   "metadata": {
    "colab": {
     "base_uri": "https://localhost:8080/"
    },
    "collapsed": true,
    "id": "avY9p3Tcf2Ho",
    "outputId": "a2bf5463-982f-45ca-fc7f-203167016288"
   },
   "execution_count": null,
   "outputs": []
  },
  {
   "cell_type": "code",
   "source": [
    "!python3.12 -m pip install -r topK_realizations/requirements.txt"
   ],
   "metadata": {
    "id": "doEKiftpgR4Z"
   },
   "execution_count": null,
   "outputs": []
  },
  {
   "cell_type": "code",
   "source": [
    "%cd topK_realizations"
   ],
   "metadata": {
    "id": "Y1Blv8QBvtDJ"
   },
   "execution_count": null,
   "outputs": []
  },
  {
   "cell_type": "code",
   "source": [
    "!python3.12 sensitivity_analysis.py"
   ],
   "metadata": {
    "id": "MIBiC1XKkS0T"
   },
   "execution_count": null,
   "outputs": []
  },
  {
   "cell_type": "code",
   "source": [
    "#For the plots, LaTeX is required to print the correct labels\n",
    "!sudo apt install cm-super dvipng texlive-latex-extra texlive-latex-recommended"
   ],
   "metadata": {
    "collapsed": true,
    "id": "1uUNDwkCuf-s"
   },
   "execution_count": null,
   "outputs": []
  },
  {
   "cell_type": "code",
   "source": [
    "from plot_sensitivity_analysis import plot_results\n",
    "import pickle\n",
    "filename = \"evaluation/results/sensitivity_analysis/sensitivity_analysis_results.pkl\"\n",
    "with open(filename, \"rb\") as file:\n",
    "  RUN_DIRS = pickle.load(file)\n",
    "plot_results(RUN_DIRS)"
   ],
   "metadata": {
    "id": "OdtHQKLitfsW"
   },
   "execution_count": null,
   "outputs": []
  }
 ]
}
